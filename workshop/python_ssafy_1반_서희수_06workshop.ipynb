{
 "cells": [
  {
   "cell_type": "code",
   "execution_count": 3,
   "metadata": {},
   "outputs": [
    {
     "data": {
      "text/plain": [
       "1.414215087890625"
      ]
     },
     "execution_count": 3,
     "metadata": {},
     "output_type": "execute_result"
    }
   ],
   "source": [
    "def my_sqrt(n):\n",
    "    #left는 양의 정수이기 때문에 1보다는 크다\n",
    "    left = 1\n",
    "    # n의 제곱근은 n보다 작기 때문에 오른쪽 끝을 n으로 설정\n",
    "    right = n\n",
    "    answer = 0\n",
    "    \n",
    "    # 구하려고 하는 제곱근을 제곱한 결과와 n의 차이가 0.00001보다 크면 계속 반복\n",
    "    while abs(answer**2 -n) > 0.00001:\n",
    "        # 양쪽 끝의 숫자의 중간 지점을 찾는다.\n",
    "        answer = (left + right) / 2\n",
    "        # 만약 answer의 제곱의 결과가 구해야 하는 n보다 수직선 상에 왼쪽에 있다면 왼쪽의 기준점을 바꿔준다.\n",
    "        if answer**2 < n:\n",
    "            left = answer\n",
    "        else:\n",
    "            right = answer\n",
    "    return answer\n",
    "\n",
    "my_sqrt(2)"
   ]
  }
 ],
 "metadata": {
  "kernelspec": {
   "display_name": "Python 3",
   "language": "python",
   "name": "python3"
  },
  "language_info": {
   "codemirror_mode": {
    "name": "ipython",
    "version": 3
   },
   "file_extension": ".py",
   "mimetype": "text/x-python",
   "name": "python",
   "nbconvert_exporter": "python",
   "pygments_lexer": "ipython3",
   "version": "3.6.7"
  }
 },
 "nbformat": 4,
 "nbformat_minor": 2
}
