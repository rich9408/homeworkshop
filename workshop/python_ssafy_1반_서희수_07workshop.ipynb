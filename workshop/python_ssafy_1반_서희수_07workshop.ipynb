{
 "cells": [
  {
   "cell_type": "code",
   "execution_count": 11,
   "metadata": {},
   "outputs": [],
   "source": [
    "class Circle:\n",
    "    pi = 3.14\n",
    "    x,y,r = 0,0,0\n",
    "    \n",
    "    def area(self):\n",
    "        return self.pi * self.r * self.r\n",
    "    \n",
    "    def circumference(self):\n",
    "        return 2* self.pi *self.r\n",
    "    \n",
    "    def center(self):\n",
    "        return (self.x, self.y)\n",
    "    \n",
    "    def move(self, x ,y):\n",
    "        self.x = x\n",
    "        self.y = y\n"
   ]
  },
  {
   "cell_type": "code",
   "execution_count": 39,
   "metadata": {},
   "outputs": [
    {
     "name": "stdout",
     "output_type": "stream",
     "text": [
      "넓이는 : 28.259999999999998\n",
      "둘레는 :18.84\n"
     ]
    }
   ],
   "source": [
    "a = Circle()\n",
    "a.r= 3\n",
    "a.move(2,4)\n",
    "\n",
    "print(\"넓이는 : \" + str(a.area()) )\n",
    "print(\"둘레는 :\" + str(a.circumference()))"
   ]
  },
  {
   "cell_type": "code",
   "execution_count": 44,
   "metadata": {},
   "outputs": [],
   "source": [
    "class Person:\n",
    "    name = \"임시이름\"\n",
    "    age = 100\n",
    "    \n",
    "    def __init__(self, n, a):\n",
    "        print(\"안녕 나는 init안에 있어\")\n",
    "        self.name = n\n",
    "        self.age = a\n",
    "    \n",
    "    def greeting(self):\n",
    "        print(f\"안녕 내이름은 {self.name}\")"
   ]
  },
  {
   "cell_type": "code",
   "execution_count": 47,
   "metadata": {},
   "outputs": [
    {
     "name": "stdout",
     "output_type": "stream",
     "text": [
      "안녕 나는 init안에 있어\n",
      "창희\n"
     ]
    }
   ],
   "source": [
    "changE = Person(\"창희\", 100)\n",
    "print(changE.name)"
   ]
  }
 ],
 "metadata": {
  "kernelspec": {
   "display_name": "Python 3",
   "language": "python",
   "name": "python3"
  },
  "language_info": {
   "codemirror_mode": {
    "name": "ipython",
    "version": 3
   },
   "file_extension": ".py",
   "mimetype": "text/x-python",
   "name": "python",
   "nbconvert_exporter": "python",
   "pygments_lexer": "ipython3",
   "version": "3.6.7"
  }
 },
 "nbformat": 4,
 "nbformat_minor": 2
}
